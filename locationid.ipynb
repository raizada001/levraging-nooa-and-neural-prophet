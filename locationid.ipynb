{
 "cells": [
  {
   "cell_type": "code",
   "execution_count": 42,
   "metadata": {},
   "outputs": [
    {
     "name": "stdout",
     "output_type": "stream",
     "text": [
      "Collecting noaa-weatherNote: you may need to restart the kernel to use updated packages.\n",
      "\n",
      "  Downloading noaa_weather-0.1-py3-none-any.whl (4.1 kB)\n",
      "Installing collected packages: noaa-weather\n",
      "Successfully installed noaa-weather-0.1\n"
     ]
    }
   ],
   "source": [
    "pip install noaa-weather"
   ]
  },
  {
   "cell_type": "code",
   "execution_count": 27,
   "metadata": {},
   "outputs": [
    {
     "name": "stdout",
     "output_type": "stream",
     "text": [
      "CITY:IN000008\n"
     ]
    }
   ],
   "source": [
    "import requests\n",
    "import json\n",
    "\n",
    "def get_location_id(location_name):\n",
    "    \"\"\"\n",
    "    Returns the location ID for a given location name by searching the NOAA API.\n",
    "    \"\"\"\n",
    "    endpoint = \"https://www.ncdc.noaa.gov/cdo-web/api/v2/locations\"\n",
    "    headers = {\"token\": \"xfxflRXrPIjQjaluOUMtuIJgMAFboAdL\"}\n",
    "    params = {\"locationcategoryid\": \"CITY\", \"sortfield\": \"name\", \"limit\": \"1000\"}\n",
    "    \n",
    "    response = requests.get(endpoint, headers=headers, params=params)\n",
    "    data = json.loads(response.content)\n",
    "    \n",
    "    for result in data[\"results\"]:\n",
    "        if location_name.lower() in result[\"name\"].lower():\n",
    "            return result[\"id\"]\n",
    "    \n",
    "    return None\n",
    "\n",
    "location_id = get_location_id(\"chandigarh\")\n",
    "print(location_id)\n",
    "\n",
    "\n"
   ]
  },
  {
   "cell_type": "code",
   "execution_count": 44,
   "metadata": {},
   "outputs": [
    {
     "name": "stdout",
     "output_type": "stream",
     "text": [
      "Collecting noaa-sdk\n",
      "  Downloading noaa_sdk-0.1.21-py3-none-any.whl (11 kB)\n",
      "Requirement already satisfied: requests>=2.22.0 in c:\\users\\asus\\anaconda3\\lib\\site-packages (from noaa-sdk) (2.28.1)\n",
      "Requirement already satisfied: certifi>=2017.4.17 in c:\\users\\asus\\anaconda3\\lib\\site-packages (from requests>=2.22.0->noaa-sdk) (2022.9.14)\n",
      "Requirement already satisfied: idna<4,>=2.5 in c:\\users\\asus\\anaconda3\\lib\\site-packages (from requests>=2.22.0->noaa-sdk) (3.3)\n",
      "Requirement already satisfied: urllib3<1.27,>=1.21.1 in c:\\users\\asus\\anaconda3\\lib\\site-packages (from requests>=2.22.0->noaa-sdk) (1.26.11)\n",
      "Requirement already satisfied: charset-normalizer<3,>=2 in c:\\users\\asus\\anaconda3\\lib\\site-packages (from requests>=2.22.0->noaa-sdk) (2.0.4)\n",
      "Installing collected packages: noaa-sdk\n",
      "Successfully installed noaa-sdk-0.1.21\n",
      "Note: you may need to restart the kernel to use updated packages.\n"
     ]
    }
   ],
   "source": [
    "pip install noaa-sdk\n"
   ]
  }
 ],
 "metadata": {
  "kernelspec": {
   "display_name": "base",
   "language": "python",
   "name": "python3"
  },
  "language_info": {
   "codemirror_mode": {
    "name": "ipython",
    "version": 3
   },
   "file_extension": ".py",
   "mimetype": "text/x-python",
   "name": "python",
   "nbconvert_exporter": "python",
   "pygments_lexer": "ipython3",
   "version": "3.9.13"
  },
  "orig_nbformat": 4
 },
 "nbformat": 4,
 "nbformat_minor": 2
}
