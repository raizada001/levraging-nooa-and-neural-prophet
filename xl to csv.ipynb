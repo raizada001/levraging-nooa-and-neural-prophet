{
 "cells": [
  {
   "cell_type": "code",
   "execution_count": null,
   "metadata": {},
   "outputs": [],
   "source": [
    "import pandas as pd\n",
    "\n",
    "# Read the Excel file into a pandas dataframe\n",
    "df = pd.read_excel(\"example.xlsx\")\n",
    "\n",
    "# Write the dataframe to a CSV file\n",
    "df.to_csv(\"example.csv\", index=False)\n"
   ]
  }
 ],
 "metadata": {
  "language_info": {
   "name": "python"
  },
  "orig_nbformat": 4
 },
 "nbformat": 4,
 "nbformat_minor": 2
}
